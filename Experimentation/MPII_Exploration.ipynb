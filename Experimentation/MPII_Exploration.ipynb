{
 "cells": [
  {
   "cell_type": "code",
   "execution_count": 1,
   "metadata": {},
   "outputs": [],
   "source": [
    "import scipy.io\n",
    "import os\n",
    "\n",
    "DATA_DIR = \"/media/marcus/Media/Programming/CSE252C_Project/Data/mpii_human_pose_v1\"#\"../Data/mpii_human_pose_v1\"\n",
    "\n",
    "annotations = scipy.io.loadmat(os.path.join(DATA_DIR, \"mpii_human_pose_v1_u12_1.mat\"), squeeze_me=True)"
   ]
  },
  {
   "cell_type": "code",
   "execution_count": 66,
   "metadata": {},
   "outputs": [
    {
     "data": {
      "text/plain": [
       "[('RELEASE', (), 'struct')]"
      ]
     },
     "execution_count": 66,
     "metadata": {},
     "output_type": "execute_result"
    }
   ],
   "source": [
    "scipy.io.whosmat(os.path.join(DATA_DIR, \"mpii_human_pose_v1_u12_1.mat\"), squeeze_me=True)"
   ]
  },
  {
   "cell_type": "code",
   "execution_count": 2,
   "metadata": {},
   "outputs": [
    {
     "name": "stdout",
     "output_type": "stream",
     "text": [
      "<class 'dict'>\n",
      "dict_keys(['__header__', '__version__', '__globals__', 'RELEASE'])\n"
     ]
    }
   ],
   "source": [
    "print(type(annotations))\n",
    "print(annotations.keys())"
   ]
  },
  {
   "cell_type": "code",
   "execution_count": 12,
   "metadata": {},
   "outputs": [
    {
     "name": "stdout",
     "output_type": "stream",
     "text": [
      "<class 'tuple'>\n",
      "6\n",
      "(array([(array(('037454012.jpg',), dtype=[('name', 'O')]), array((3.8807339512004684, array((601, 380), dtype=[('x', 'O'), ('y', 'O')])),\n",
      "      dtype=[('scale', 'O'), ('objpos', 'O')]), array([], dtype=float64), array([], dtype=float64)),\n",
      "       (array(('095071431.jpg',), dtype=[('name', 'O')]), array([(8.078166128521993, array((881, 394), dtype=[('x', 'O'), ('y', 'O')])),\n",
      "       (8.90412937911394, array((338, 210), dtype=[('x', 'O'), ('y', 'O')]))],\n",
      "      dtype=[('scale', 'O'), ('objpos', 'O')]), array([], dtype=float64), array([], dtype=float64)),\n",
      "       (array(('073199394.jpg',), dtype=[('name', 'O')]), array((4.3266615305567875, array((619, 350), dtype=[('x', 'O'), ('y', 'O')])),\n",
      "      dtype=[('scale', 'O'), ('objpos', 'O')]), array([], dtype=float64), array([], dtype=float64)),\n",
      "       ...,\n",
      "       (array(('084761779.jpg',), dtype=[('name', 'O')]), array([(287, 130, 324, 163, array((array([(334, 225, 6, 1), (312, 173, 7, 1),\n",
      "       (310.2242, 165.7604, 8, array([], dtype=float64)),\n",
      "       (300.7758, 127.2396, 9, array([], dtype=float64)),\n",
      "       (362, 350, 0, 1), (347, 297, 1, 1), (350, 224, 2, 1),\n",
      "       (317, 226, 3, 1), (297, 290, 4, 0), (336, 312, 5, 1),\n",
      "       (310, 192, 10, 0), (326, 186, 11, 0), (335, 168, 12, 1),\n",
      "       (288, 177, 13, 1), (279, 199, 14, 0), (268, 194, 15, 0)],\n",
      "      dtype=[('x', 'O'), ('y', 'O'), ('id', 'O'), ('is_visible', 'O')]),),\n",
      "      dtype=[('point', 'O')]), 1.1898773045990918, array((330, 208), dtype=[('x', 'O'), ('y', 'O')])),\n",
      "       (333, 137, 361, 162, array((array([(391, 221, 6, 1), (365, 172, 7, 0),\n",
      "       (356.3796, 161.2245, 8, array([], dtype=float64)),\n",
      "       (337.6204, 137.7755, 9, array([], dtype=float64)),\n",
      "       (457, 324, 0, 1), (420, 282, 1, 1), (403, 219, 2, 1),\n",
      "       (379, 222, 3, 1), (355, 267, 4, 0), (379, 314, 5, 1),\n",
      "       (356, 182, 10, 0), (373, 186, 11, 0), (380, 172, 12, 0),\n",
      "       (349, 171, 13, 1), (334, 193, 14, 0), (319, 194, 15, 0)],\n",
      "      dtype=[('x', 'O'), ('y', 'O'), ('id', 'O'), ('is_visible', 'O')]),),\n",
      "      dtype=[('point', 'O')]), 0.9008795701979261, array((372, 216), dtype=[('x', 'O'), ('y', 'O')])),\n",
      "       (400, 140, 428, 168, array((array([(459, 224, 6, 1), (418, 177, 7, 0),\n",
      "       (416.7139, 169.605, 8, array([], dtype=float64)),\n",
      "       (411.2861, 138.395, 9, array([], dtype=float64)), (483, 292, 0, 0),\n",
      "       (442, 259, 1, 0), (468, 221, 2, 1), (449, 226, 3, 1),\n",
      "       (461, 271, 4, 1), (500, 315, 5, 1), (411, 187, 10, 0),\n",
      "       (427, 193, 11, 0), (432, 175, 12, 0), (403, 179, 13, 1),\n",
      "       (403, 205, 14, 0), (386, 198, 15, 0)],\n",
      "      dtype=[('x', 'O'), ('y', 'O'), ('id', 'O'), ('is_visible', 'O')]),),\n",
      "      dtype=[('point', 'O')]), 0.9503515139147198, array((437, 207), dtype=[('x', 'O'), ('y', 'O')])),\n",
      "       (212, 153, 244, 173, array((array([(263, 225, 6, 1), (233, 179, 7, 0),\n",
      "       (232.5023, 177.4073, 8, array([], dtype=float64)),\n",
      "       (223.4977, 148.5927, 9, array([], dtype=float64)),\n",
      "       (280, 287, 1, 1), (277, 224, 2, 1), (248, 225, 3, 1),\n",
      "       (222, 280, 4, 1), (237, 192, 10, 0), (249, 193, 11, 0),\n",
      "       (251, 178, 12, 0), (214, 179, 13, 1), (190, 202, 14, 1),\n",
      "       (190, 201, 15, 0)],\n",
      "      dtype=[('x', 'O'), ('y', 'O'), ('id', 'O'), ('is_visible', 'O')]),),\n",
      "      dtype=[('point', 'O')]), 0.905662188677434, array((230, 216), dtype=[('x', 'O'), ('y', 'O')])),\n",
      "       (0, 135, 76, 216, array((array([(68, 416, 6, 1), (107, 413, 2, 1), (29, 419, 3, 1),\n",
      "       (167, 342, 10, 1), (132, 316, 11, 1), (91, 237, 12, 1)],\n",
      "      dtype=[('x', 'O'), ('y', 'O'), ('id', 'O'), ('is_visible', 'O')]),),\n",
      "      dtype=[('point', 'O')]), 2.66572916853907, array((62, 338), dtype=[('x', 'O'), ('y', 'O')]))],\n",
      "      dtype=[('x1', 'O'), ('y1', 'O'), ('x2', 'O'), ('y2', 'O'), ('annopoints', 'O'), ('scale', 'O'), ('objpos', 'O')]), 158, 793),\n",
      "       (array(('092025825.jpg',), dtype=[('name', 'O')]), array([(9.880336836363423, array((1224, 553), dtype=[('x', 'O'), ('y', 'O')])),\n",
      "       (8.619509034742059, array((473, 587), dtype=[('x', 'O'), ('y', 'O')]))],\n",
      "      dtype=[('scale', 'O'), ('objpos', 'O')]), array([], dtype=float64), array([], dtype=float64)),\n",
      "       (array(('053686627.jpg',), dtype=[('name', 'O')]), array([(8.844122115846208, array((1277, 681), dtype=[('x', 'O'), ('y', 'O')])),\n",
      "       (8.733362239137913, array((526, 503), dtype=[('x', 'O'), ('y', 'O')]))],\n",
      "      dtype=[('scale', 'O'), ('objpos', 'O')]), array([], dtype=float64), array([], dtype=float64))],\n",
      "      dtype=[('image', 'O'), ('annorect', 'O'), ('frame_sec', 'O'), ('vididx', 'O')]), array([0, 0, 0, ..., 1, 0, 0], dtype=uint8), '12', array([1, array([], dtype=float64), 1, ..., 5, array([], dtype=float64),\n",
      "       array([], dtype=float64)], dtype=object), array([(array([], dtype=float64), array([], dtype=float64), -1),\n",
      "       (array([], dtype=float64), array([], dtype=float64), -1),\n",
      "       (array([], dtype=float64), array([], dtype=float64), -1), ...,\n",
      "       ('transportation', 'pushing car', 972),\n",
      "       (array([], dtype=float64), array([], dtype=float64), -1),\n",
      "       (array([], dtype=float64), array([], dtype=float64), -1)],\n",
      "      dtype=[('cat_name', 'O'), ('act_name', 'O'), ('act_id', 'O')]), array(['-08Vnk8XONY', '-0YdHqlKV8w', '-1nf9pRuuZw', ..., 'zvMWkSAcSVc',\n",
      "       'zwqQrtD2L84', 'zz5DvBqit8A'], dtype=object))\n"
     ]
    }
   ],
   "source": [
    "print(type(annotations[\"RELEASE\"].item()))\n",
    "print(len(annotations[\"RELEASE\"].item()))\n",
    "print(annotations[\"RELEASE\"].item())"
   ]
  },
  {
   "cell_type": "code",
   "execution_count": 13,
   "metadata": {
    "collapsed": true
   },
   "outputs": [],
   "source": [
    "annotations = annotations[\"RELEASE\"].item()"
   ]
  },
  {
   "cell_type": "code",
   "execution_count": 50,
   "metadata": {},
   "outputs": [
    {
     "name": "stdout",
     "output_type": "stream",
     "text": [
      "<class 'numpy.ndarray'>\n",
      "(24987,)\n",
      "(24987,)\n",
      "12\n",
      "(24987,)\n",
      "(24987,)\n",
      "(2821,)\n"
     ]
    }
   ],
   "source": [
    "print(type(annotations[0]))\n",
    "print(annotations[0].shape)\n",
    "print(annotations[1].shape)\n",
    "print(annotations[2])\n",
    "print(annotations[3].shape)\n",
    "print(annotations[4].shape)\n",
    "print(annotations[5].shape)"
   ]
  },
  {
   "cell_type": "code",
   "execution_count": 41,
   "metadata": {},
   "outputs": [
    {
     "name": "stdout",
     "output_type": "stream",
     "text": [
      "(24987,)\n",
      "[('image', 'O'), ('annorect', 'O'), ('frame_sec', 'O'), ('vididx', 'O')]\n"
     ]
    }
   ],
   "source": [
    "print(annotations[0].shape)\n",
    "print(annotations[0][0].dtype)"
   ]
  },
  {
   "cell_type": "code",
   "execution_count": 29,
   "metadata": {},
   "outputs": [
    {
     "name": "stdout",
     "output_type": "stream",
     "text": [
      "<class 'numpy.void'>\n",
      "[('image', 'O'), ('annorect', 'O'), ('frame_sec', 'O'), ('vididx', 'O')]\n",
      "(array(('037454012.jpg',), dtype=[('name', 'O')]), array((3.8807339512004684, array((601, 380), dtype=[('x', 'O'), ('y', 'O')])),\n",
      "      dtype=[('scale', 'O'), ('objpos', 'O')]), array([], dtype=float64), array([], dtype=float64))\n",
      "('037454012.jpg',) [('name', 'O')]\n",
      "(3.8807339512004684, array((601, 380), dtype=[('x', 'O'), ('y', 'O')])) [('scale', 'O'), ('objpos', 'O')]\n",
      "[] float64\n",
      "[] float64\n"
     ]
    }
   ],
   "source": [
    "print(type(annotations[0][0]))\n",
    "print(annotations[0][0].dtype)\n",
    "print(annotations[0][0])\n",
    "for i in range(len(annotations[0][0])):\n",
    "    print(annotations[0][0][i], annotations[0][0][i].dtype)"
   ]
  },
  {
   "cell_type": "code",
   "execution_count": 30,
   "metadata": {},
   "outputs": [
    {
     "name": "stdout",
     "output_type": "stream",
     "text": [
      "(array(('095071431.jpg',), dtype=[('name', 'O')]), array([(8.078166128521993, array((881, 394), dtype=[('x', 'O'), ('y', 'O')])),\n",
      "       (8.90412937911394, array((338, 210), dtype=[('x', 'O'), ('y', 'O')]))],\n",
      "      dtype=[('scale', 'O'), ('objpos', 'O')]), array([], dtype=float64), array([], dtype=float64))\n"
     ]
    }
   ],
   "source": [
    "print(annotations[0][1])"
   ]
  },
  {
   "cell_type": "code",
   "execution_count": 47,
   "metadata": {},
   "outputs": [
    {
     "name": "stdout",
     "output_type": "stream",
     "text": [
      "uint8\n",
      "object\n",
      "[('cat_name', 'O'), ('act_name', 'O'), ('act_id', 'O')]\n",
      "object\n"
     ]
    }
   ],
   "source": [
    "print(annotations[1].dtype)\n",
    "print(annotations[3].dtype)\n",
    "print(annotations[4].dtype)\n",
    "print(annotations[5].dtype)"
   ]
  },
  {
   "cell_type": "code",
   "execution_count": 53,
   "metadata": {},
   "outputs": [
    {
     "name": "stdout",
     "output_type": "stream",
     "text": [
      "[1 array([], dtype=float64) 1 ... 5 array([], dtype=float64)\n",
      " array([], dtype=float64)]\n"
     ]
    }
   ],
   "source": [
    "print(annotations[3])"
   ]
  },
  {
   "cell_type": "code",
   "execution_count": 59,
   "metadata": {},
   "outputs": [
    {
     "name": "stdout",
     "output_type": "stream",
     "text": [
      "(24987,)\n"
     ]
    }
   ],
   "source": [
    "print(annotations[3].shape)"
   ]
  },
  {
   "cell_type": "code",
   "execution_count": 65,
   "metadata": {},
   "outputs": [
    {
     "name": "stdout",
     "output_type": "stream",
     "text": [
      "3\n"
     ]
    }
   ],
   "source": [
    "print(annotations[3][5])"
   ]
  },
  {
   "cell_type": "code",
   "execution_count": 26,
   "metadata": {
    "collapsed": true
   },
   "outputs": [],
   "source": [
    "annotations = annotations[\"RELEASE\"][0][0]"
   ]
  },
  {
   "cell_type": "code",
   "execution_count": 27,
   "metadata": {
    "scrolled": true
   },
   "outputs": [
    {
     "name": "stdout",
     "output_type": "stream",
     "text": [
      "(1, 24987)\n",
      "(1, 24987)\n",
      "(1,)\n",
      "(24987, 1)\n",
      "(24987, 1)\n",
      "(1, 2821)\n"
     ]
    }
   ],
   "source": [
    "print(annotations[0].shape)\n",
    "print(annotations[1].shape)\n",
    "print(annotations[2].shape)\n",
    "print(annotations[3].shape)\n",
    "print(annotations[4].shape)\n",
    "print(annotations[5].shape)"
   ]
  },
  {
   "cell_type": "code",
   "execution_count": 42,
   "metadata": {},
   "outputs": [
    {
     "name": "stdout",
     "output_type": "stream",
     "text": [
      "['037454012.jpg']\n"
     ]
    }
   ],
   "source": [
    "print(annotations[0][0][0][0][0][0][0])"
   ]
  },
  {
   "cell_type": "code",
   "execution_count": 54,
   "metadata": {},
   "outputs": [
    {
     "name": "stdout",
     "output_type": "stream",
     "text": [
      "[3.88073395]\n",
      "[601]\n",
      "[380]\n"
     ]
    }
   ],
   "source": [
    "print(annotations[0][0][0][1][0][0][0][0])\n",
    "print(annotations[0][0][0][1][0][0][1][0][0][0][0])\n",
    "print(annotations[0][0][0][1][0][0][1][0][0][1][0])"
   ]
  }
 ],
 "metadata": {
  "kernelspec": {
   "display_name": "Python 3",
   "language": "python",
   "name": "python3"
  },
  "language_info": {
   "codemirror_mode": {
    "name": "ipython",
    "version": 3
   },
   "file_extension": ".py",
   "mimetype": "text/x-python",
   "name": "python",
   "nbconvert_exporter": "python",
   "pygments_lexer": "ipython3",
   "version": "3.6.4"
  }
 },
 "nbformat": 4,
 "nbformat_minor": 2
}
