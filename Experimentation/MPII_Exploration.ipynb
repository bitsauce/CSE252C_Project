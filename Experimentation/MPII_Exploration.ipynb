{
 "cells": [
  {
   "cell_type": "code",
   "execution_count": 4,
   "metadata": {
    "collapsed": false
   },
   "outputs": [],
   "source": [
    "import scipy.io\n",
    "import os\n",
    "\n",
    "DATA_DIR = \"../Data/mpii_human_pose_v1\"\n",
    "\n",
    "annotations = scipy.io.loadmat(os.path.join(DATA_DIR, \"mpii_human_pose_v1_u12_1.mat\"))"
   ]
  },
  {
   "cell_type": "code",
   "execution_count": 9,
   "metadata": {
    "collapsed": false
   },
   "outputs": [
    {
     "name": "stdout",
     "output_type": "stream",
     "text": [
      "<class 'dict'>\n",
      "dict_keys(['__header__', '__version__', '__globals__', 'RELEASE'])\n"
     ]
    }
   ],
   "source": [
    "print(type(annotations))\n",
    "print(annotations.keys())"
   ]
  },
  {
   "cell_type": "code",
   "execution_count": 26,
   "metadata": {
    "collapsed": true
   },
   "outputs": [],
   "source": [
    "annotations = annotations[\"RELEASE\"][0][0]"
   ]
  },
  {
   "cell_type": "code",
   "execution_count": 27,
   "metadata": {
    "collapsed": false,
    "scrolled": true
   },
   "outputs": [
    {
     "name": "stdout",
     "output_type": "stream",
     "text": [
      "(1, 24987)\n",
      "(1, 24987)\n",
      "(1,)\n",
      "(24987, 1)\n",
      "(24987, 1)\n",
      "(1, 2821)\n"
     ]
    }
   ],
   "source": [
    "print(annotations[0].shape)\n",
    "print(annotations[1].shape)\n",
    "print(annotations[2].shape)\n",
    "print(annotations[3].shape)\n",
    "print(annotations[4].shape)\n",
    "print(annotations[5].shape)"
   ]
  },
  {
   "cell_type": "code",
   "execution_count": 42,
   "metadata": {
    "collapsed": false
   },
   "outputs": [
    {
     "name": "stdout",
     "output_type": "stream",
     "text": [
      "['037454012.jpg']\n"
     ]
    }
   ],
   "source": [
    "print(annotations[0][0][0][0][0][0][0])"
   ]
  },
  {
   "cell_type": "code",
   "execution_count": 54,
   "metadata": {
    "collapsed": false
   },
   "outputs": [
    {
     "name": "stdout",
     "output_type": "stream",
     "text": [
      "[3.88073395]\n",
      "[601]\n",
      "[380]\n"
     ]
    }
   ],
   "source": [
    "print(annotations[0][0][0][1][0][0][0][0])\n",
    "print(annotations[0][0][0][1][0][0][1][0][0][0][0])\n",
    "print(annotations[0][0][0][1][0][0][1][0][0][1][0])"
   ]
  }
 ],
 "metadata": {
  "kernelspec": {
   "display_name": "Python 3",
   "language": "python",
   "name": "python3"
  },
  "language_info": {
   "codemirror_mode": {
    "name": "ipython",
    "version": 3
   },
   "file_extension": ".py",
   "mimetype": "text/x-python",
   "name": "python",
   "nbconvert_exporter": "python",
   "pygments_lexer": "ipython3",
   "version": "3.6.0"
  }
 },
 "nbformat": 4,
 "nbformat_minor": 2
}
